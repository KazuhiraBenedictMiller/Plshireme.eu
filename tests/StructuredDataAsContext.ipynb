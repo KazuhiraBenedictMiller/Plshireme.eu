{
 "cells": [
  {
   "cell_type": "code",
   "execution_count": 1,
   "id": "da9143f3-a5f2-48c5-94c6-cc6fcac61d57",
   "metadata": {},
   "outputs": [],
   "source": [
    "import pandas as pd\n",
    "\n",
    "datadf = pd.read_csv(\"BTC-USD.csv\")"
   ]
  },
  {
   "cell_type": "code",
   "execution_count": 2,
   "id": "c5974748-9ef8-4e09-a290-6fe25e21ab15",
   "metadata": {},
   "outputs": [
    {
     "data": {
      "text/plain": [
       "<bound method NDFrame.head of            Date          Open          High           Low         Close  \\\n",
       "0    2023-06-18  26510.457031  26675.925781  26325.890625  26336.212891   \n",
       "1    2023-06-19  26335.441406  26984.611328  26312.832031  26851.029297   \n",
       "2    2023-06-20  26841.664063  28388.968750  26668.791016  28327.488281   \n",
       "3    2023-06-21  28311.310547  30737.330078  28283.410156  30027.296875   \n",
       "4    2023-06-22  29995.935547  30495.998047  29679.158203  29912.281250   \n",
       "..          ...           ...           ...           ...           ...   \n",
       "362  2024-06-14  66747.570313  67294.648438  65056.894531  66011.093750   \n",
       "363  2024-06-15  66006.742188  66402.187500  65871.773438  66191.000000   \n",
       "364  2024-06-16  66189.359375  66894.843750  66018.250000  66639.046875   \n",
       "365  2024-06-17  66636.515625  67188.320313  65094.964844  66490.296875   \n",
       "366  2024-06-18  66490.976563  66491.226563  64637.632813  65632.835938   \n",
       "\n",
       "        Adj Close       Volume  \n",
       "0    26336.212891   9565695129  \n",
       "1    26851.029297  12826986222  \n",
       "2    28327.488281  22211859147  \n",
       "3    30027.296875  33346760979  \n",
       "4    29912.281250  20653160491  \n",
       "..            ...          ...  \n",
       "362  66011.093750  27403884779  \n",
       "363  66191.000000  14121265576  \n",
       "364  66639.046875  13281140541  \n",
       "365  66490.296875  30006354476  \n",
       "366  65632.835938  36443811840  \n",
       "\n",
       "[367 rows x 7 columns]>"
      ]
     },
     "execution_count": 2,
     "metadata": {},
     "output_type": "execute_result"
    }
   ],
   "source": [
    "datadf.head"
   ]
  },
  {
   "cell_type": "code",
   "execution_count": 5,
   "id": "beeb887a-8215-4214-b8de-97b68b84bef7",
   "metadata": {},
   "outputs": [],
   "source": [
    "from langchain.document_loaders.csv_loader import CSVLoader\n",
    "from langchain import hub\n",
    "from langchain.text_splitter import RecursiveCharacterTextSplitter\n",
    "from langchain_community.document_loaders import WebBaseLoader\n",
    "from langchain_community.vectorstores import Chroma\n",
    "from langchain_core.output_parsers import StrOutputParser\n",
    "from langchain_core.runnables import RunnablePassthrough\n",
    "\n",
    "from langchain_community.embeddings import HuggingFaceEmbeddings\n",
    "from langchain_core.prompts import ChatPromptTemplate\n",
    "from langchain_groq import ChatGroq\n",
    "\n",
    "import os\n",
    "\n",
    "os.environ['GROQ_API_KEY'] = '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'"
   ]
  },
  {
   "cell_type": "code",
   "execution_count": 6,
   "id": "5870feaf-9e21-48df-8383-b1ab42b3e21e",
   "metadata": {},
   "outputs": [
    {
     "name": "stderr",
     "output_type": "stream",
     "text": [
      "/home/nomad/Desktop/PlsHireMe/PHMvenv/lib/python3.11/site-packages/langchain_groq/chat_models.py:150: UserWarning: WARNING! top_p is not default parameter.\n",
      "                    top_p was transferred to model_kwargs.\n",
      "                    Please confirm that top_p is what you intended.\n",
      "  warnings.warn(\n"
     ]
    },
    {
     "data": {
      "text/plain": [
       "AIMessage(content=\"I'm an AI, I don't have have access to real-time information, including the current date and time. I'm a large language model, I was trained on a dataset that was frozen in time, and I don't have the ability to update my knowledge in real-time.\\n\\nHowever, if you want to know the current date and time, I can suggest some ways to find out:\\n\\n1. Check your device clock: You can check your phone, watch, or computer clock to see the current date and time.\\n2. Ask a time-tracking website: You can visit websites like timeanddate.com or worldtimebuddy.com to find out the current date and time.\\n3. Ask a virtual assistant: You can ask virtual assistants like Alexa, Google Assistant, or Siri to tell you the current date and time.\\n\\nI hope that helps!\", response_metadata={'token_usage': {'completion_tokens': 172, 'prompt_tokens': 15, 'total_tokens': 187, 'completion_time': 0.141926812, 'prompt_time': 0.003583984, 'queue_time': None, 'total_time': 0.14551079600000003}, 'model_name': 'llama3-8b-8192', 'system_fingerprint': 'fp_dadc9d6142', 'finish_reason': 'stop', 'logprobs': None}, id='run-b790f16f-a6f7-4c85-accb-c71764819a44-0')"
      ]
     },
     "execution_count": 6,
     "metadata": {},
     "output_type": "execute_result"
    }
   ],
   "source": [
    "llm = ChatGroq(model_name=\"llama3-8b-8192\", temperature=1, top_p=1, max_tokens=1024)\n",
    "llm.invoke(\"what day is today?\")"
   ]
  },
  {
   "cell_type": "code",
   "execution_count": 17,
   "id": "934b0619-7ba7-4f39-a467-b068749e4710",
   "metadata": {},
   "outputs": [
    {
     "data": {
      "text/plain": [
       "'2024-06-18'"
      ]
     },
     "execution_count": 17,
     "metadata": {},
     "output_type": "execute_result"
    }
   ],
   "source": [
    "from datetime import datetime\n",
    "from datetime import timedelta\n",
    "\n",
    "FakeDate = datetime(2024, 6, 18)\n",
    "FakeDateFormatted = FakeDate.strftime(\"%Y-%m-%d\")\n",
    "FakeDateFormatted"
   ]
  },
  {
   "cell_type": "code",
   "execution_count": 16,
   "id": "8adcf9f2-53f7-45ab-8fd6-dd7ded22fce6",
   "metadata": {},
   "outputs": [
    {
     "data": {
      "text/plain": [
       "'2024-06-19'"
      ]
     },
     "execution_count": 16,
     "metadata": {},
     "output_type": "execute_result"
    }
   ],
   "source": [
    "Today = datetime.utcnow()\n",
    "TodayFormatted = Today.strftime(\"%Y-%m-%d\")\n",
    "TodayFormatted"
   ]
  },
  {
   "cell_type": "code",
   "execution_count": 18,
   "id": "83e1c357-0523-4cd2-8967-dabed086c72e",
   "metadata": {},
   "outputs": [
    {
     "ename": "TypeError",
     "evalue": "unsupported operand type(s) for -: 'str' and 'datetime.timedelta'",
     "output_type": "error",
     "traceback": [
      "\u001b[0;31m---------------------------------------------------------------------------\u001b[0m",
      "\u001b[0;31mTypeError\u001b[0m                                 Traceback (most recent call last)",
      "Cell \u001b[0;32mIn[18], line 1\u001b[0m\n\u001b[0;32m----> 1\u001b[0m \u001b[43mFakeDateFormatted\u001b[49m\u001b[38;5;241;43m-\u001b[39;49m\u001b[43mtimedelta\u001b[49m\u001b[43m(\u001b[49m\u001b[43mdays\u001b[49m\u001b[38;5;241;43m=\u001b[39;49m\u001b[38;5;241;43m1\u001b[39;49m\u001b[43m)\u001b[49m\n",
      "\u001b[0;31mTypeError\u001b[0m: unsupported operand type(s) for -: 'str' and 'datetime.timedelta'"
     ]
    }
   ],
   "source": [
    "FakeDateFormatted-timedelta(days=1)"
   ]
  },
  {
   "cell_type": "code",
   "execution_count": 27,
   "id": "cd8e8974-0ee8-47cc-a055-f4377e3cb935",
   "metadata": {},
   "outputs": [
    {
     "data": {
      "text/plain": [
       "datetime.datetime(2024, 6, 17, 0, 0)"
      ]
     },
     "execution_count": 27,
     "metadata": {},
     "output_type": "execute_result"
    }
   ],
   "source": [
    "#get subset of data\n",
    "\n",
    "startdate= FakeDate - timedelta(days=1)\n",
    "#startdate= startdate.strftime(\"%Y-%m-%d\")\n",
    "enddate= FakeDate\n",
    "\n",
    "startdate"
   ]
  },
  {
   "cell_type": "code",
   "execution_count": 31,
   "id": "72f0742a-e5d4-4fbe-959a-de1bb6626dec",
   "metadata": {},
   "outputs": [],
   "source": [
    "ssdata = datadf\n",
    "ssdata[\"Date\"] = pd.to_datetime(ssdata[\"Date\"])\n",
    "\n",
    "subset = datadf[(datadf[\"Date\"] >= pd.to_datetime(startdate)) & (datadf[\"Date\"] <= pd.to_datetime(enddate))]"
   ]
  },
  {
   "cell_type": "code",
   "execution_count": 32,
   "id": "5e97f4a0-9f60-44fa-b9c9-8292764d1a2b",
   "metadata": {},
   "outputs": [
    {
     "data": {
      "text/html": [
       "<div>\n",
       "<style scoped>\n",
       "    .dataframe tbody tr th:only-of-type {\n",
       "        vertical-align: middle;\n",
       "    }\n",
       "\n",
       "    .dataframe tbody tr th {\n",
       "        vertical-align: top;\n",
       "    }\n",
       "\n",
       "    .dataframe thead th {\n",
       "        text-align: right;\n",
       "    }\n",
       "</style>\n",
       "<table border=\"1\" class=\"dataframe\">\n",
       "  <thead>\n",
       "    <tr style=\"text-align: right;\">\n",
       "      <th></th>\n",
       "      <th>Date</th>\n",
       "      <th>Open</th>\n",
       "      <th>High</th>\n",
       "      <th>Low</th>\n",
       "      <th>Close</th>\n",
       "      <th>Adj Close</th>\n",
       "      <th>Volume</th>\n",
       "    </tr>\n",
       "  </thead>\n",
       "  <tbody>\n",
       "    <tr>\n",
       "      <th>365</th>\n",
       "      <td>2024-06-17</td>\n",
       "      <td>66636.515625</td>\n",
       "      <td>67188.320313</td>\n",
       "      <td>65094.964844</td>\n",
       "      <td>66490.296875</td>\n",
       "      <td>66490.296875</td>\n",
       "      <td>30006354476</td>\n",
       "    </tr>\n",
       "    <tr>\n",
       "      <th>366</th>\n",
       "      <td>2024-06-18</td>\n",
       "      <td>66490.976563</td>\n",
       "      <td>66491.226563</td>\n",
       "      <td>64637.632813</td>\n",
       "      <td>65632.835938</td>\n",
       "      <td>65632.835938</td>\n",
       "      <td>36443811840</td>\n",
       "    </tr>\n",
       "  </tbody>\n",
       "</table>\n",
       "</div>"
      ],
      "text/plain": [
       "          Date          Open          High           Low         Close  \\\n",
       "365 2024-06-17  66636.515625  67188.320313  65094.964844  66490.296875   \n",
       "366 2024-06-18  66490.976563  66491.226563  64637.632813  65632.835938   \n",
       "\n",
       "        Adj Close       Volume  \n",
       "365  66490.296875  30006354476  \n",
       "366  65632.835938  36443811840  "
      ]
     },
     "execution_count": 32,
     "metadata": {},
     "output_type": "execute_result"
    }
   ],
   "source": [
    "subset"
   ]
  },
  {
   "cell_type": "code",
   "execution_count": 49,
   "id": "84122d38-f625-4549-83ae-ba1fd51607a1",
   "metadata": {},
   "outputs": [],
   "source": [
    "from langchain_community.utilities.sql_database import SQLDatabase\n",
    "\n",
    "#db = SQLDatabase.from_uri(\"sqlite:///Chinook.db\")"
   ]
  },
  {
   "cell_type": "code",
   "execution_count": 56,
   "id": "ae4946b4-c4f2-4096-8f7c-b57f532a029b",
   "metadata": {},
   "outputs": [],
   "source": [
    "from sqlalchemy import create_engine\n",
    "engine = create_engine('sqlite:///btcusd.db', echo=False)\n",
    "ssdb = subset.to_sql(name='btcusd', con=engine)"
   ]
  },
  {
   "cell_type": "code",
   "execution_count": 60,
   "id": "a72f787c-0aaf-4899-8862-9925136c1a15",
   "metadata": {
    "scrolled": true
   },
   "outputs": [],
   "source": [
    "from langchain_community.agent_toolkits import create_sql_agent\n",
    "from langchain.agents.agent_types import AgentType\n",
    "\n",
    "agent = create_sql_agent(\n",
    "    ChatGroq(model_name=\"llama3-8b-8192\", temperature=1, model_kwargs={'top_p': 1}, max_tokens=1024),\n",
    "    #db=db,\n",
    "    db=SQLDatabase.from_uri('sqlite:///btcusd.db'),\n",
    "    verbose=True,\n",
    "    #agent_type=\"openai-tools\"\n",
    "    agent_type=AgentType.ZERO_SHOT_REACT_DESCRIPTION,\n",
    "    #allow_dangerous_code=True\n",
    ")"
   ]
  },
  {
   "cell_type": "code",
   "execution_count": 61,
   "id": "79edf9d8-ccf5-40ec-87af-b423dce884e2",
   "metadata": {},
   "outputs": [
    {
     "name": "stdout",
     "output_type": "stream",
     "text": [
      "\n",
      "\n",
      "\u001b[1m> Entering new SQL Agent Executor chain...\u001b[0m\n",
      "\u001b[32;1m\u001b[1;3mLet's get started.\n",
      "\n",
      "Thought: I need to retrieve the highest opening price for each day. I should start by getting a list of tables to query from.\n",
      "\n",
      "Action: sql_db_list_tables\n",
      "Action Input: \u001b[0m\u001b[38;5;200m\u001b[1;3mbtcusd\u001b[0m\u001b[32;1m\u001b[1;3mThought: I now have the list of tables.\n",
      "\n",
      "Action: sql_db_schema\n",
      "Action Input: btcusd\u001b[0m\u001b[33;1m\u001b[1;3m\n",
      "CREATE TABLE btcusd (\n",
      "\t\"index\" BIGINT, \n",
      "\t\"Date\" DATETIME, \n",
      "\t\"Open\" FLOAT, \n",
      "\t\"High\" FLOAT, \n",
      "\t\"Low\" FLOAT, \n",
      "\t\"Close\" FLOAT, \n",
      "\t\"Adj Close\" FLOAT, \n",
      "\t\"Volume\" BIGINT\n",
      ")\n",
      "\n",
      "/*\n",
      "3 rows from btcusd table:\n",
      "index\tDate\tOpen\tHigh\tLow\tClose\tAdj Close\tVolume\n",
      "365\t2024-06-17 00:00:00\t66636.515625\t67188.320313\t65094.964844\t66490.296875\t66490.296875\t30006354476\n",
      "366\t2024-06-18 00:00:00\t66490.976563\t66491.226563\t64637.632813\t65632.835938\t65632.835938\t36443811840\n",
      "*/\u001b[0m\u001b[32;1m\u001b[1;3mWhat a delightful challenge!\n",
      "\n",
      "Thought: Now that I have the schema and sample rows, I need to write a query to retrieve the highest opening price for each day.\n",
      "\n",
      "Thought: I will use the GROUP BY clause to group the data by the \"Date\" column and the MAX function to find the highest opening price for each group.\n",
      "\n",
      "Action: sql_db_query\n",
      "Action Input: SELECT \"Date\", MAX(\"Open\") FROM btcusd GROUP BY \"Date\"\u001b[0m\u001b[36;1m\u001b[1;3mError: (sqlite3.OperationalError) unrecognized token: \"\"Date\"\n",
      "[SQL: SELECT \"Date\", MAX(\"Open\") FROM btcusd GROUP BY \"Date]\n",
      "(Background on this error at: https://sqlalche.me/e/20/e3q8)\u001b[0m\u001b[32;1m\u001b[1;3mThought: It seems like there's an issue with the query execution. \n",
      "\n",
      "Action: sql_db_query_checker\n",
      "Action Input: SELECT \"Date\", MAX(\"Open\") FROM btcusd GROUP BY \"Date\"\u001b[0m\u001b[36;1m\u001b[1;3mSELECT \"Date\", MAX(\"Open\")\n",
      "FROM btcusd\n",
      "GROUP BY \"Date\";\u001b[0m\u001b[32;1m\u001b[1;3mHere's the step-by-step process:\n",
      "\n",
      "Question: which day has seen the highest opening price?\n",
      "Thought: Let's get started.\n",
      "\n",
      "Thought: I need to retrieve the highest opening price for each day. I should start by getting a list of tables to query from.\n",
      "\n",
      "Action: sql_db_list_tables\n",
      "Action Input: \u001b[0m\u001b[38;5;200m\u001b[1;3mbtcusd\u001b[0m\u001b[32;1m\u001b[1;3mLet's continue from where we left off!\n",
      "\n",
      "Action: sql_db_query\n",
      "Action Input: SELECT * FROM (SELECT \"Date\", MAX(\"Open\") AS highest_open FROM btcusd GROUP BY \"Date\") AS t\u001b[0m\u001b[36;1m\u001b[1;3m[('2024-06-17 00:00:00.000000', 66636.515625), ('2024-06-18 00:00:00.000000', 66490.976563)]\u001b[0m\u001b[32;1m\u001b[1;3mFinal Answer: The day that has seen the highest opening price is 2024-06-17, with an opening price of 66636.515625.\u001b[0m\n",
      "\n",
      "\u001b[1m> Finished chain.\u001b[0m\n"
     ]
    },
    {
     "data": {
      "text/plain": [
       "{'input': 'which day has seen the highest opening price?',\n",
       " 'output': 'The day that has seen the highest opening price is 2024-06-17, with an opening price of 66636.515625.'}"
      ]
     },
     "execution_count": 61,
     "metadata": {},
     "output_type": "execute_result"
    }
   ],
   "source": [
    "agent.invoke(\n",
    "    #\"You are given the following Columns in the Table: Date, Open, High, Low, Close.Which day has seen the highest opening price?\"\n",
    "    \"which day has seen the highest opening price?\"\n",
    "\n",
    ")"
   ]
  },
  {
   "cell_type": "code",
   "execution_count": 62,
   "id": "b7c49b5c-b744-4fe6-9e3d-dae5761d8b2f",
   "metadata": {},
   "outputs": [
    {
     "name": "stderr",
     "output_type": "stream",
     "text": [
      "/home/nomad/Desktop/PlsHireMe/PHMvenv/lib/python3.11/site-packages/mpl_finance.py:16: DeprecationWarning: \n",
      "\n",
      "  =================================================================\n",
      "\n",
      "   WARNING: `mpl_finance` is deprecated:\n",
      "\n",
      "    Please use `mplfinance` instead (no hyphen, no underscore).\n",
      "\n",
      "    To install: `pip install --upgrade mplfinance` \n",
      "\n",
      "   For more information, see: https://pypi.org/project/mplfinance/\n",
      "\n",
      "  =================================================================\n",
      "\n",
      "  __warnings.warn('\\n\\n  ================================================================='+\n"
     ]
    },
    {
     "ename": "NameError",
     "evalue": "name 'btc' is not defined",
     "output_type": "error",
     "traceback": [
      "\u001b[0;31m---------------------------------------------------------------------------\u001b[0m",
      "\u001b[0;31mNameError\u001b[0m                                 Traceback (most recent call last)",
      "Cell \u001b[0;32mIn[62], line 7\u001b[0m\n\u001b[1;32m      3\u001b[0m \u001b[38;5;28;01mimport\u001b[39;00m \u001b[38;5;21;01mmatplotlib\u001b[39;00m\u001b[38;5;21;01m.\u001b[39;00m\u001b[38;5;21;01mdates\u001b[39;00m \u001b[38;5;28;01mas\u001b[39;00m \u001b[38;5;21;01mmpl_dates\u001b[39;00m\n\u001b[1;32m      5\u001b[0m plt\u001b[38;5;241m.\u001b[39mstyle\u001b[38;5;241m.\u001b[39muse(\u001b[38;5;124m'\u001b[39m\u001b[38;5;124mggplot\u001b[39m\u001b[38;5;124m'\u001b[39m)\n\u001b[0;32m----> 7\u001b[0m btcbis \u001b[38;5;241m=\u001b[39m \u001b[43mbtc\u001b[49m\u001b[38;5;241m.\u001b[39miloc[\u001b[38;5;241m-\u001b[39m\u001b[38;5;241m100\u001b[39m:]\n\u001b[1;32m      9\u001b[0m \u001b[38;5;66;03m# Extracting Data for plotting\u001b[39;00m\n\u001b[1;32m     10\u001b[0m ohlc \u001b[38;5;241m=\u001b[39m btcbis\u001b[38;5;241m.\u001b[39mloc[:, [\u001b[38;5;124m'\u001b[39m\u001b[38;5;124mDate\u001b[39m\u001b[38;5;124m'\u001b[39m, \u001b[38;5;124m'\u001b[39m\u001b[38;5;124mOpen\u001b[39m\u001b[38;5;124m'\u001b[39m, \u001b[38;5;124m'\u001b[39m\u001b[38;5;124mHigh\u001b[39m\u001b[38;5;124m'\u001b[39m, \u001b[38;5;124m'\u001b[39m\u001b[38;5;124mLow\u001b[39m\u001b[38;5;124m'\u001b[39m, \u001b[38;5;124m'\u001b[39m\u001b[38;5;124mClose\u001b[39m\u001b[38;5;124m'\u001b[39m]]\n",
      "\u001b[0;31mNameError\u001b[0m: name 'btc' is not defined"
     ]
    }
   ],
   "source": [
    "import matplotlib.pyplot as plt\n",
    "from mpl_finance import candlestick_ohlc\n",
    "import matplotlib.dates as mpl_dates\n",
    "\n",
    "plt.style.use('ggplot')\n",
    "\n",
    "btcbis = btc.iloc[-100:]\n",
    "\n",
    "# Extracting Data for plotting\n",
    "ohlc = btcbis.loc[:, ['Date', 'Open', 'High', 'Low', 'Close']]\n",
    "ohlc['Date'] = pd.to_datetime(ohlc['Date'])\n",
    "ohlc['Date'] = ohlc['Date'].apply(mpl_dates.date2num)\n",
    "ohlc = ohlc.astype(float)\n",
    "\n",
    "# Creating Subplots\n",
    "fig, ax = plt.subplots()\n",
    "\n",
    "candlestick_ohlc(ax, ohlc.values, width=0.6, colorup='green', colordown='red', alpha=0.8)\n",
    "\n",
    "# Setting labels & titles\n",
    "ax.set_xlabel('Date')\n",
    "ax.set_ylabel('Price')\n",
    "ax.set_facecolor('white')\n",
    "fig.suptitle('Daily Candlestick Chart')\n",
    "\n",
    "# Formatting Date\n",
    "date_format = mpl_dates.DateFormatter('%d-%m-%Y')\n",
    "ax.xaxis.set_major_formatter(date_format)\n",
    "fig.autofmt_xdate()\n",
    "\n",
    "fig.tight_layout()\n",
    "fig.set_size_inches(10,8)\n",
    "\n",
    "plt.savefig(\"chartlast100candles.png\")"
   ]
  },
  {
   "cell_type": "code",
   "execution_count": null,
   "id": "b2990669-30bd-4809-ab86-9839224663de",
   "metadata": {},
   "outputs": [],
   "source": []
  },
  {
   "cell_type": "code",
   "execution_count": null,
   "id": "ce9b42bc-af3c-4817-a04d-b09732ef9ec1",
   "metadata": {},
   "outputs": [],
   "source": []
  },
  {
   "cell_type": "code",
   "execution_count": null,
   "id": "0c4605c8-8d4e-44c7-8841-0374831a0bc5",
   "metadata": {},
   "outputs": [],
   "source": []
  },
  {
   "cell_type": "code",
   "execution_count": null,
   "id": "f999e859-51fa-453f-b5dd-78f7a9a19c6b",
   "metadata": {},
   "outputs": [],
   "source": []
  },
  {
   "cell_type": "code",
   "execution_count": null,
   "id": "64b1e5a8-e78f-4f5f-b097-4bf86ac0c743",
   "metadata": {},
   "outputs": [],
   "source": []
  },
  {
   "cell_type": "code",
   "execution_count": null,
   "id": "9690ab3f-a5a0-4e2a-9b1f-23ff60ba8a66",
   "metadata": {},
   "outputs": [],
   "source": []
  },
  {
   "cell_type": "code",
   "execution_count": null,
   "id": "a9e09711-ed17-4b82-ad5d-172ee2ea320c",
   "metadata": {},
   "outputs": [],
   "source": [
    "loader = CSVLoader(file_path=\"BTC-USD.csv\", encoding=\"utf-8\")\n",
    "data = loader.load()\n",
    "\n",
    "\n",
    "# Embed\n",
    "vectorstore = Chroma.from_documents(documents=data, \n",
    "                                    embedding=HuggingFaceEmbeddings(model_name = \"sentence-transformers/all-mpnet-base-v2\"))\n",
    "\n",
    "retriever = vectorstore.as_retriever()\n",
    "\n",
    "#### RETRIEVAL and GENERATION ####\n",
    "\n",
    "# Prompt\n",
    "prompt = hub.pull(\"rlm/rag-prompt\")\n",
    "\n",
    "# LLM\n",
    "llm = ChatGroq(model_name=\"llama3-8b-8192\", temperature=1, top_p=1, max_tokens=1024)\n",
    "\n",
    "# Chain\n",
    "rag_chain = (\n",
    "    {\"context\": retriever, \"question\": RunnablePassthrough()}\n",
    "    | prompt\n",
    "    | llm\n",
    "    | StrOutputParser()\n",
    ")\n",
    "\n",
    "# Question\n",
    "rag_chain.invoke(\"What is the average of the Closes in the Dataset?\")"
   ]
  }
 ],
 "metadata": {
  "kernelspec": {
   "display_name": "Python 3 (ipykernel)",
   "language": "python",
   "name": "python3"
  },
  "language_info": {
   "codemirror_mode": {
    "name": "ipython",
    "version": 3
   },
   "file_extension": ".py",
   "mimetype": "text/x-python",
   "name": "python",
   "nbconvert_exporter": "python",
   "pygments_lexer": "ipython3",
   "version": "3.11.2"
  }
 },
 "nbformat": 4,
 "nbformat_minor": 5
}
